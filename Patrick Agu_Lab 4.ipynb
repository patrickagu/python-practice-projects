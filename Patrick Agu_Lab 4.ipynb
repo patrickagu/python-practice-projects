{
 "cells": [
  {
   "cell_type": "markdown",
   "id": "70c09432-ba0d-44b3-a61d-c3a8f12824cc",
   "metadata": {},
   "source": [
    "Lab 4: Customer Purchase Data Analysis Using Recursion, Lambda, and List Comprehension"
   ]
  },
  {
   "cell_type": "code",
   "execution_count": 38,
   "id": "faaaadbd-297c-475c-b2ea-8a9b8432076b",
   "metadata": {},
   "outputs": [
    {
     "name": "stdout",
     "output_type": "stream",
     "text": [
      "[303, 204, 302, 233, 94, 74, 124, 247, 483, 184, 366, 22, 48, 137, 218, 317, 325, 174, 322, 467]\n"
     ]
    }
   ],
   "source": [
    "#1. Generate a list of 20 random purchase amounts between $5 and $500 using the random module\n",
    "\n",
    "#import random module\n",
    "import random as rd\n",
    "\n",
    "#use list comprehension to obtain a list\n",
    "purchase_amounts_list = [rd.randint(5, 500) for i in range(20)] \n",
    "\n",
    "print(purchase_amounts_list)"
   ]
  },
  {
   "cell_type": "code",
   "execution_count": 41,
   "id": "723bd4f5-6336-40d5-9524-69565dd4b038",
   "metadata": {},
   "outputs": [
    {
     "name": "stdout",
     "output_type": "stream",
     "text": [
      "The total amount spent by all the customers is: 4644\n"
     ]
    }
   ],
   "source": [
    "#2. Use recursion to compute the total amount spent by all customers\n",
    "\n",
    "def recursion(x, y):    \n",
    "    if (y == 0):\n",
    "        result = 0\n",
    "        return result\n",
    "    else:\n",
    "        result = x[y-1] + recursion(x, y-1)\n",
    "        return result\n",
    "    \n",
    "#Call the recursion function and print the result\n",
    "print(\"The total amount spent by all the customers is:\", recursion(purchase_amounts_list, len(purchase_amounts_list)))"
   ]
  },
  {
   "cell_type": "code",
   "execution_count": 77,
   "id": "0c2e94fe-4581-4286-bc06-f686254ca736",
   "metadata": {},
   "outputs": [
    {
     "name": "stdout",
     "output_type": "stream",
     "text": [
      "[272.7, 183.6, 271.8, 209.7, 94, 74, 111.6, 222.3, 434.7, 165.6, 329.4, 22, 48, 123.3, 196.2, 285.3, 292.5, 156.6, 289.8, 420.3]\n"
     ]
    }
   ],
   "source": [
    "#3. Use map and a lambda function to apply a 10% discount on all purchases above $100 (others remain the same)\n",
    "\n",
    "discounted_price_list = list(map(lambda a: a - (a*0.1) if a > 100 else a, purchase_amounts_list))\n",
    "print(discounted_price_list)"
   ]
  },
  {
   "cell_type": "code",
   "execution_count": 80,
   "id": "e65633df-a427-4106-8760-5aa8249793a9",
   "metadata": {},
   "outputs": [
    {
     "name": "stdout",
     "output_type": "stream",
     "text": [
      "[272.7, 271.8, 209.7, 222.3, 434.7, 329.4, 285.3, 292.5, 289.8, 420.3]\n"
     ]
    }
   ],
   "source": [
    "#4. Use filter and a lambda function to extract purchases greater than $200 after the discount in step 3\n",
    "\n",
    "highest_purchases_list = list(map(lambda a: a, filter(lambda x: x > 200, discounted_price_list)))\n",
    "print(highest_purchases_list)"
   ]
  },
  {
   "cell_type": "code",
   "execution_count": 82,
   "id": "091751fc-a92d-4331-a8c5-43717829833b",
   "metadata": {},
   "outputs": [
    {
     "name": "stdout",
     "output_type": "stream",
     "text": [
      "434.7\n"
     ]
    }
   ],
   "source": [
    "#5. Use reduce to find the highest purchase amount after the discount in step 3\n",
    "\n",
    "from functools import reduce   #import reduce\n",
    "\n",
    "highest_purchase_amount = reduce(lambda a, b: a if a > b else b, discounted_price_list)\n",
    "print(highest_purchase_amount)"
   ]
  },
  {
   "cell_type": "code",
   "execution_count": 97,
   "id": "a424b343-217f-44a9-a10e-aa1772631717",
   "metadata": {},
   "outputs": [
    {
     "name": "stdout",
     "output_type": "stream",
     "text": [
      "[16.51, 13.55, 16.49, 14.48, 9.7, 8.6, 10.56, 14.91, 20.85, 12.87, 18.15, 4.69, 6.93, 11.1, 14.01, 16.89, 17.1, 12.51, 17.02, 20.5]\n"
     ]
    }
   ],
   "source": [
    "#6. Use list comprehension to create a new list that contains the square roots of all discounted purchase amounts (rounded to 2 decimal places)\n",
    "\n",
    "import math  # import math module\n",
    "\n",
    "# Use list comprehension to calculate the square roots of the discounted prices and round the result to 2 decimal places\n",
    "new_list = [round(math.sqrt(i), 2) for i in discounted_price_list]\n",
    "\n",
    "# Print the new list of square roots rounded to 2 decimal places\n",
    "print(new_list) "
   ]
  },
  {
   "cell_type": "code",
   "execution_count": null,
   "id": "e20ce4b2-1312-447f-b5a9-b82adb4db25d",
   "metadata": {},
   "outputs": [],
   "source": []
  }
 ],
 "metadata": {
  "kernelspec": {
   "display_name": "Python 3 (ipykernel)",
   "language": "python",
   "name": "python3"
  },
  "language_info": {
   "codemirror_mode": {
    "name": "ipython",
    "version": 3
   },
   "file_extension": ".py",
   "mimetype": "text/x-python",
   "name": "python",
   "nbconvert_exporter": "python",
   "pygments_lexer": "ipython3",
   "version": "3.12.7"
  }
 },
 "nbformat": 4,
 "nbformat_minor": 5
}
