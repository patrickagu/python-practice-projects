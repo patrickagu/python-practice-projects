{
 "cells": [
  {
   "cell_type": "markdown",
   "id": "0d7bc65f-af43-4912-bb3b-f634013b93fc",
   "metadata": {},
   "source": [
    "Coding Lab 6: Reading and Writing Text Files"
   ]
  },
  {
   "cell_type": "code",
   "execution_count": 43,
   "id": "03ddadcf-35e5-4e8a-8a2c-ded89faacb03",
   "metadata": {},
   "outputs": [
    {
     "name": "stdout",
     "output_type": "stream",
     "text": [
      "Output written to 'Lab06.txt'.\n"
     ]
    }
   ],
   "source": [
    "#Q1: A function that will take a single list argument of three strings.  The purpose of the  function is to write the first and last character of each string to a text file ‘Lab06.txt’\n",
    "\n",
    "# import module\n",
    "import os\n",
    "\n",
    "#create a function with just one argument 'strings'\n",
    "def select_characters(strings):\n",
    "\n",
    "    #open the file\n",
    "    file = open('Lab06.txt', mode= 'w') # creates a new file if not exist already\n",
    "    \n",
    "    for string in strings:\n",
    "        \n",
    "    #make sure the string is not empty\n",
    "        if len(string) > 0:\n",
    "            first_character = string[0]\n",
    "            last_character = string[-1]\n",
    "\n",
    "            #Writing to the text file and add a new line\n",
    "            file.write(f\"{first_character}{last_character}\\n\")  \n",
    "            \n",
    "        else:\n",
    "            # In case of an empty string, just write a newline\n",
    "            file.write(\"\\n\") \n",
    "\n",
    "    # Close the file after writing\n",
    "    file.close()\n",
    "\n",
    "# list of three strings\n",
    "strings = ['document', 'automation', 'python']\n",
    "\n",
    "# call the function\n",
    "select_characters(strings)\n",
    "\n",
    "#print\n",
    "print(\"Output written to 'Lab06.txt'.\")"
   ]
  },
  {
   "cell_type": "code",
   "execution_count": 44,
   "id": "e0f2b39b-aad1-425b-8067-eded31582439",
   "metadata": {},
   "outputs": [
    {
     "name": "stdout",
     "output_type": "stream",
     "text": [
      "dt\n",
      "an\n",
      "pn\n",
      "\n"
     ]
    }
   ],
   "source": [
    "# To read the contents of the file, in order to ensuring the code from above worked\n",
    "\n",
    "# Open the file to read its contents\n",
    "file = open('Lab06.txt', mode='r')\n",
    "\n",
    "# Read the contents of the file\n",
    "contents = file.read()\n",
    "\n",
    "# Print the contents\n",
    "print(contents)\n",
    "\n",
    "# Close the file after reading\n",
    "file.close()\n"
   ]
  },
  {
   "cell_type": "code",
   "execution_count": 45,
   "id": "41835970-055a-47d2-81d9-a90b3a5a09ee",
   "metadata": {},
   "outputs": [
    {
     "name": "stdout",
     "output_type": "stream",
     "text": [
      "Please enter choice 1 from the available options below:\n",
      " A. java\n",
      "B. python\n",
      "C. javascript\n",
      "D. ruby\n",
      "E. php\n"
     ]
    },
    {
     "name": "stdin",
     "output_type": "stream",
     "text": [
      " Java\n"
     ]
    },
    {
     "name": "stdout",
     "output_type": "stream",
     "text": [
      "Please enter choice 2 from the available options below:\n",
      " A. python\n",
      "B. javascript\n",
      "C. ruby\n",
      "D. php\n"
     ]
    },
    {
     "name": "stdin",
     "output_type": "stream",
     "text": [
      " D\n"
     ]
    },
    {
     "name": "stdout",
     "output_type": "stream",
     "text": [
      "Please enter choice 3 from the available options below:\n",
      " A. python\n",
      "B. javascript\n",
      "C. ruby\n"
     ]
    },
    {
     "name": "stdin",
     "output_type": "stream",
     "text": [
      " PHP\n"
     ]
    },
    {
     "name": "stdout",
     "output_type": "stream",
     "text": [
      "'PHP' is not a valid choice.\n",
      "Please enter choice 3 from the available options below:\n",
      " A. python\n",
      "B. javascript\n",
      "C. ruby\n"
     ]
    },
    {
     "name": "stdin",
     "output_type": "stream",
     "text": [
      " PYTHON\n"
     ]
    },
    {
     "name": "stdout",
     "output_type": "stream",
     "text": [
      "\n",
      "File successfully written.\n",
      "\n",
      "Inputs chosen by the User (as a List):\n",
      "['java', 'php', 'python']\n"
     ]
    }
   ],
   "source": [
    "# Q2: write code outside the function that will ask the user for three individual strings using input validation through pyinputplus to ensure that the three strings are one of a choice of five using the inputMenu function.  Once entered convert the three words to a list and pass to the function as an argument.  Once the function confirms a successful operation to the caller, print the following message to the user (“File successfully written.”)   \n",
    "\n",
    "#import library\n",
    "import pyinputplus as pyip\n",
    "\n",
    "# individual strings\n",
    "choices = ['java', 'python', 'javascript', 'ruby', 'php']  \n",
    "\n",
    "strings_list = [] #an empty list to store the choices made by the user\n",
    "\n",
    "# A list to keep track of already chosen option by the user (optional)\n",
    "used_choices = []\n",
    "\n",
    "for i in range(3):\n",
    "    # To filter out the choices that have already been selected\n",
    "    available_choices = [choice for choice in choices if choice not in used_choices]\n",
    "    \n",
    "    # Use inputMenu to ensure the user picks a unique option\n",
    "    user_input = pyip.inputMenu(available_choices, lettered= True, caseSensitive=False, prompt = f\"Please enter choice {i+1} from the available options below:\\n \")\n",
    "\n",
    "    # Append the user choice to the strings list\n",
    "    strings_list.append(user_input)\n",
    "\n",
    "    # Append the selected option to the used_choices list, to avoid re-selection of same option\n",
    "    used_choices.append(user_input)\n",
    "\n",
    "# To write to file using user defined function \"select_characters\"\n",
    "def select_characters(strings):\n",
    "    file = open('Lab06.txt', 'w')\n",
    "    for string in strings:\n",
    "        if len(string) > 0:\n",
    "            first_character = string[0]\n",
    "            last_character = string[-1]\n",
    "            file.write(f\"{first_character}{last_character}\\n\")\n",
    "        else:\n",
    "            file.write(\"\\n\")\n",
    "\n",
    "    # Close the file after writing\n",
    "    file.close()\n",
    "\n",
    "#call the select_characters function\n",
    "select_characters(strings_list)\n",
    "\n",
    "# Confirm the operation to the user\n",
    "print(\"\\nFile successfully written.\")\n",
    "\n",
    "# Additionally, show the strings entered by the user (optional step taken)\n",
    "print(\"\\nInputs chosen by the User (as a List):\")\n",
    "print(strings_list)"
   ]
  },
  {
   "cell_type": "code",
   "execution_count": 46,
   "id": "94171658-df25-4165-87a5-def845ae2ee2",
   "metadata": {},
   "outputs": [
    {
     "name": "stdout",
     "output_type": "stream",
     "text": [
      "ja\n",
      "pp\n",
      "pn\n",
      "\n"
     ]
    }
   ],
   "source": [
    "# To read the new contents of the file, first and last characters only (optional step)\n",
    "\n",
    "# Open the file to read its contents\n",
    "file = open('Lab06.txt', mode='r')\n",
    "\n",
    "# Read the contents of the file\n",
    "contents = file.read()\n",
    "\n",
    "# Print the contents\n",
    "print(contents)\n",
    "\n",
    "# Always close file after reading\n",
    "file.close()"
   ]
  },
  {
   "cell_type": "code",
   "execution_count": null,
   "id": "c005714a-4a48-49b1-a688-4e96e1fe1b8d",
   "metadata": {},
   "outputs": [],
   "source": []
  }
 ],
 "metadata": {
  "kernelspec": {
   "display_name": "Python 3 (ipykernel)",
   "language": "python",
   "name": "python3"
  },
  "language_info": {
   "codemirror_mode": {
    "name": "ipython",
    "version": 3
   },
   "file_extension": ".py",
   "mimetype": "text/x-python",
   "name": "python",
   "nbconvert_exporter": "python",
   "pygments_lexer": "ipython3",
   "version": "3.12.7"
  }
 },
 "nbformat": 4,
 "nbformat_minor": 5
}
