{
 "cells": [
  {
   "cell_type": "code",
   "execution_count": 20,
   "id": "8bcbbe7d-9c5f-4aeb-a3af-1342f9afbe5f",
   "metadata": {},
   "outputs": [
    {
     "name": "stdout",
     "output_type": "stream",
     "text": [
      "Excel spreadsheet 'Lab07.xlsx' has been created successfully.\n"
     ]
    }
   ],
   "source": [
    "#Question 1: Take a list of 20 words. Use Python to create a spreadsheet (Lab07.xlsx) having 5 columns and 10 rows. The spreadsheet will contain words randomly selected from the list.\n",
    "\n",
    "# Import modules\n",
    "import openpyxl\n",
    "import random\n",
    "\n",
    "# Create a list of 20 words\n",
    "words = ['Python', 'JS', 'Java', 'C#', 'C++', 'PHP', 'Ruby', 'Arduino', 'R', 'SQL', 'Swift', 'GO', 'Rust', 'MATLAB', 'Scala', 'Shell', 'Dart', 'Fortran', 'Perl']\n",
    "\n",
    "# Create a blank workbook\n",
    "wb = openpyxl.Workbook() \n",
    "\n",
    "# Select the active sheet\n",
    "sheet = wb.active\n",
    "\n",
    "# Fill the spreadsheet with random words from the list above\n",
    "for row in range(1, 11): # Rows 1 to 10\n",
    "    for column in range(1, 6): #columns 1 to 5\n",
    "\n",
    "        # Select a random word from the list\n",
    "        word = random.choice(words) \n",
    "\n",
    "        # place word in cell within active sheet \n",
    "        sheet.cell(row=row, column=column, value=word)  \n",
    "\n",
    "# Save the workbook with name Lab07.xslx\n",
    "wb.save('Lab07.xlsx')\n",
    "\n",
    "# Print out a success statement\n",
    "print(\"Excel spreadsheet 'Lab07.xlsx' has been created successfully.\")"
   ]
  },
  {
   "cell_type": "code",
   "execution_count": 21,
   "id": "78f1c7ad-b8d4-42b5-b7cb-b47e04036b4a",
   "metadata": {},
   "outputs": [
    {
     "name": "stdout",
     "output_type": "stream",
     "text": [
      "JS\n",
      "Fortran\n",
      "MATLAB\n",
      "Shell\n",
      "SQL\n"
     ]
    }
   ],
   "source": [
    "# Get the values from the cells\n",
    "\n",
    "print(sheet['A1'].value)\n",
    "print(sheet['A2'].value)\n",
    "print(sheet['A3'].value)\n",
    "print(sheet['A4'].value)\n",
    "print(sheet['A5'].value)"
   ]
  },
  {
   "cell_type": "code",
   "execution_count": 22,
   "id": "de1d5575-3a6c-4dcb-9d33-b562181b8383",
   "metadata": {},
   "outputs": [
    {
     "name": "stdout",
     "output_type": "stream",
     "text": [
      "Excell spreadsheet 'Lab07-updated.xlsx' has been modified successfully as requested.\n"
     ]
    }
   ],
   "source": [
    "\"\"\"\n",
    "Question 2. Use Python to randomly modify 5 words in the spreadsheet (one word in each column) and add a percentage ‘%’ symbol at the end of the word. \n",
    "The five modified words should be in bold style. Create a new spreadsheet (Lab07-updated.xlsx) which includes the modified words.\n",
    "\"\"\"\n",
    "\n",
    "#import modules\n",
    "from openpyxl.styles import Font\n",
    "\n",
    "# Load the already existing workbook\n",
    "wb = openpyxl.load_workbook('Lab07.xlsx')\n",
    "\n",
    "# Select the active sheet\n",
    "sheet = wb.active\n",
    "\n",
    "# A list to store the modified row numbers (one per column)\n",
    "modified_row_numbers = random.sample(range(1, 11), 5)  # Randomly selects 5 rows from 1 to 10\n",
    "\n",
    "# Loop through the columns (1 to 5) and then modify one word in each column\n",
    "for column in range(1, 6): \n",
    "    \n",
    "    # Take a random row number from the list modified_row_numbers (one at a time starting from the last number on the list)\n",
    "    row = modified_row_numbers.pop() \n",
    "\n",
    "    # Obtain the current word\n",
    "    word = sheet.cell(row=row, column=column).value\n",
    "\n",
    "    # Add the % symbol and assign a variable\n",
    "    modified_word = word + \"%\" \n",
    "\n",
    "    # Update the cell value with the modfied_word\n",
    "    sheet.cell(row=row, column=column, value=modified_word) \n",
    "\n",
    "    # Make the word bold style using Font\n",
    "    sheet.cell(row=row, column=column).font = Font(bold=True) \n",
    "\n",
    "# Save the modified workbook to a new file (Lab07-updated.xlsx)\n",
    "wb.save('Lab07-updated.xlsx')\n",
    "\n",
    "# Print a success statement\n",
    "print(\"Excell spreadsheet 'Lab07-updated.xlsx' has been modified successfully as requested.\")\n"
   ]
  },
  {
   "cell_type": "code",
   "execution_count": 24,
   "id": "9d4432b0-abe6-4fbc-829a-d5ddefd0689a",
   "metadata": {},
   "outputs": [
    {
     "name": "stdout",
     "output_type": "stream",
     "text": [
      "SQL%\n",
      "Dart%\n",
      "PHP%\n",
      "R%\n",
      "PHP%\n"
     ]
    }
   ],
   "source": [
    "# Get the value from the cells\n",
    "\n",
    "print(sheet['A5'].value)\n",
    "print(sheet['B10'].value)\n",
    "print(sheet['C4'].value)\n",
    "print(sheet['D3'].value)\n",
    "print(sheet['E9'].value)"
   ]
  },
  {
   "cell_type": "code",
   "execution_count": null,
   "id": "494f7545-73ef-4903-82f5-adbd921063df",
   "metadata": {},
   "outputs": [],
   "source": []
  }
 ],
 "metadata": {
  "kernelspec": {
   "display_name": "Python 3 (ipykernel)",
   "language": "python",
   "name": "python3"
  },
  "language_info": {
   "codemirror_mode": {
    "name": "ipython",
    "version": 3
   },
   "file_extension": ".py",
   "mimetype": "text/x-python",
   "name": "python",
   "nbconvert_exporter": "python",
   "pygments_lexer": "ipython3",
   "version": "3.12.7"
  }
 },
 "nbformat": 4,
 "nbformat_minor": 5
}
