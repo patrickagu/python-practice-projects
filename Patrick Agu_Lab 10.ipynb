{
 "cells": [
  {
   "cell_type": "markdown",
   "id": "094df73a-ea30-4e9e-8e5f-9239ea61919a",
   "metadata": {},
   "source": [
    "LAB 10"
   ]
  },
  {
   "cell_type": "code",
   "execution_count": 4,
   "id": "e1b8f863-65f8-4b80-bfdc-4dbd2b4a50d4",
   "metadata": {},
   "outputs": [
    {
     "name": "stdout",
     "output_type": "stream",
     "text": [
      "Report generated successfully as Lab10.docx\n"
     ]
    }
   ],
   "source": [
    "'''Write a python application which will build a report in Word (Lab10.docx) based upon the information in the spreadsheet. \n",
    "The first paragraph in the report should be the longest paragraph in the spreadsheet which you will determine programmatically. \n",
    "The second paragraph in the report should be the middle paragraph (in length) in the spreadsheet which you will determine programmatically. \n",
    "The last paragraph in the report should be the shortest paragraph in the spreadsheet which you will determine programmatically. \n",
    "Each paragraph should have a heading, the first heading should contain the word “fish”, the second heading should contain the word “cheese”. \n",
    "The last heading should contain the word “car”, therefore you must ensure that the headings written into the spreadsheet should contain these words. \n",
    "Finally add the image (balloons.png) to the bottom of the report.\n",
    "'''\n",
    "\n",
    "# import modules\n",
    "import docx\n",
    "import openpyxl\n",
    "import os\n",
    "\n",
    "# Load the Excel file\n",
    "workbook = openpyxl.load_workbook('Lab10.xlsx')\n",
    "sheet = workbook.active  # Get the first sheet\n",
    "\n",
    "# Get data from the first two columns\n",
    "paragraphs = []\n",
    "titles = []\n",
    "\n",
    "# To iterate over rows in the Excel sheet\n",
    "for row in sheet.iter_rows(min_row=1, max_row=3, values_only=True):  \n",
    "    if row[0]:  # First column\n",
    "        paragraphs.append(row[0])\n",
    "    if row[1]:  # Second column \n",
    "        titles.append(row[1])\n",
    "\n",
    "# Sort paragraphs by length, from longest to shortest using sorted()\n",
    "sorted_paragraphs = sorted(paragraphs, key=lambda x: len(x), reverse=True)  \n",
    "\n",
    "# Prepare the titles dictionary\n",
    "title_keywords = {'fish': None, 'cheese': None, 'car': None}\n",
    "\n",
    "# Assign titles to their keywords\n",
    "for title in titles:\n",
    "    title_lower = title.lower()\n",
    "    if 'fish' in title_lower:\n",
    "        title_keywords['fish'] = title\n",
    "    elif 'cheese' in title_lower:\n",
    "        title_keywords['cheese'] = title\n",
    "    elif 'car' in title_lower:\n",
    "        title_keywords['car'] = title\n",
    "\n",
    "# Create a new Word document\n",
    "word_doc = docx.Document()\n",
    "\n",
    "# Add the longest paragraph with \"fish\" as heading\n",
    "word_doc.add_heading(title_keywords['fish'], level=1)\n",
    "word_doc.add_paragraph(sorted_paragraphs[0])\n",
    "\n",
    "# Add the middle paragraph with \"cheese\" as heading\n",
    "word_doc.add_heading(title_keywords['cheese'], level=1)\n",
    "word_doc.add_paragraph(sorted_paragraphs[1])\n",
    "\n",
    "# Add the shortest paragraph with \"car\" as heading\n",
    "word_doc.add_heading(title_keywords['car'], level=1)\n",
    "word_doc.add_paragraph(sorted_paragraphs[2])\n",
    "\n",
    "# Add the image\n",
    "word_doc.add_picture('balloons.png', width=docx.shared.Inches(1), height=docx.shared.Cm(3))\n",
    "\n",
    "# Save the document\n",
    "word_doc.save('Lab10.docx')\n",
    "\n",
    "# Print a message\n",
    "print(\"Report generated successfully as Lab10.docx\")"
   ]
  },
  {
   "cell_type": "code",
   "execution_count": 16,
   "id": "779c6984-bfa0-4bac-a2fe-51a12fc6d3eb",
   "metadata": {},
   "outputs": [
    {
     "name": "stdout",
     "output_type": "stream",
     "text": [
      "Eat Fish\n",
      "Eating fish is beneficial due to its rich content of high-quality protein and various vitamins and minerals.\n",
      "Say Cheese\n",
      "Why do people say \"Say Cheese!\" before taking a group photo. \n",
      "Car or Airplane\n",
      "What is the safest means of transportation?\n"
     ]
    }
   ],
   "source": [
    "# The contents of Lab10.docx\n",
    "\n",
    "for i in range(6): \n",
    "    print(word_doc.paragraphs[i].text)"
   ]
  },
  {
   "cell_type": "code",
   "execution_count": null,
   "id": "31c1f89d-e785-4abd-82e0-78cb22bab877",
   "metadata": {},
   "outputs": [],
   "source": []
  }
 ],
 "metadata": {
  "kernelspec": {
   "display_name": "Python 3 (ipykernel)",
   "language": "python",
   "name": "python3"
  },
  "language_info": {
   "codemirror_mode": {
    "name": "ipython",
    "version": 3
   },
   "file_extension": ".py",
   "mimetype": "text/x-python",
   "name": "python",
   "nbconvert_exporter": "python",
   "pygments_lexer": "ipython3",
   "version": "3.12.7"
  }
 },
 "nbformat": 4,
 "nbformat_minor": 5
}
