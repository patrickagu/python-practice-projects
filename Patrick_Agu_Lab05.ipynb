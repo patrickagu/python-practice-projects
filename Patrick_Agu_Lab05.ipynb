{
 "cells": [
  {
   "cell_type": "markdown",
   "id": "9a662293-8bd6-4acb-82b1-f78635af08f0",
   "metadata": {},
   "source": [
    "### COMP 1112 - 02 Coding Lab 5"
   ]
  },
  {
   "cell_type": "code",
   "execution_count": 113,
   "id": "d963aecb-53b2-4a51-afd5-b989bed821d6",
   "metadata": {},
   "outputs": [],
   "source": [
    "import re"
   ]
  },
  {
   "cell_type": "code",
   "execution_count": 128,
   "id": "b2f46bb0-51b8-4ff3-ba71-db30215df194",
   "metadata": {},
   "outputs": [
    {
     "name": "stdout",
     "output_type": "stream",
     "text": [
      "['1(403) 405 4445 ex:12345', '1(403)-405-4445-ex:13579']\n"
     ]
    }
   ],
   "source": [
    "# 1. Create a single user defined function to extract both phone numbers including the extensions from the text provided\n",
    "\n",
    "text = \"Hello Preet, please call at 1(403) 405 4445 ex:12345 to book your appointment. If this number is busy, you can call us at 1(403)-405-4445-ex:13579\"\n",
    "\n",
    "def arePhoneNumbers(text):\n",
    "    phone_numbers = []\n",
    "\n",
    "    # Split the text into single words\n",
    "    words = text.split()\n",
    "\n",
    "    for word in words:\n",
    "        if len(word) >= 3 and len(word) <= 8 and word[0].isdigit():\n",
    "            phone_numbers.append(word)\n",
    "            phone_numbers = [words[5] + \" \" + words[6] + \" \" + words[7] + \" \" + words[8]]\n",
    "        if len(word) > 10 and word[0].isdigit() and word.startswith(\"1\"):\n",
    "            #check to see if the word contains \"ex\" and \"-\"\n",
    "            if \"ex\" in word and \"-\" in word:\n",
    "                phone_numbers.append(word)\n",
    "                \n",
    "    return phone_numbers\n",
    "\n",
    "# Extract the both phone numbers\n",
    "phone_numbers = arePhoneNumbers(text)\n",
    "print(phone_numbers)\n"
   ]
  },
  {
   "cell_type": "code",
   "execution_count": 115,
   "id": "42c76e8e-495b-4d8d-96c5-0d1317ede63a",
   "metadata": {},
   "outputs": [
    {
     "data": {
      "text/plain": [
       "['1(403) 405 4445 ex:12345', '1(403)-405-4445-ex:13579']"
      ]
     },
     "execution_count": 115,
     "metadata": {},
     "output_type": "execute_result"
    }
   ],
   "source": [
    "# 2. Use a single regular expression to extract both phone numbers including the extensions from the text provided\n",
    "\n",
    "text = \"Hello Preet, please call at 1(403) 405 4445 ex:12345 to book your appointment. If this number is busy, you can call us at 1(403)-405-4445-ex:13579\"\n",
    "\n",
    "# Regular expression to match phone numbers including the extensions\n",
    "phoneNumRegex = re.compile(r'1\\(\\d{3}\\)\\s?-?\\d{3}\\s?-?\\d{4}\\s?-?ex?:?\\d{5}')\n",
    "\n",
    "# Extracting the both phone numbers with their extensions\n",
    "mo = phoneNumRegex.findall(text)\n",
    "mo\n"
   ]
  },
  {
   "cell_type": "markdown",
   "id": "be475b3a-508d-4818-bf50-9cb1507b78ca",
   "metadata": {},
   "source": [
    "# 3. Which method do you prefer, user defined function or regular expressions, give at least two reasons?\n",
    "\n",
    "I prefer regular expressions because;\n",
    "\n",
    "a). Regular expressions enables us to extract specific patterns (pattern matching), briefly or concisely in a single expression, without having to manually iterate over the text unlike user defined functions. They are used to retrieve different types of patterns from text, patterns like URLs, email addresses, phone numbers etc. \n",
    "\n",
    "b). Regular expressions can perform operations more efficiently than user defined functions. They are also faster, hence time saving. User defined function require multiple lines of code to perform the same function as regular expressions."
   ]
  },
  {
   "cell_type": "code",
   "execution_count": null,
   "id": "cc09d73a-d26a-4ab1-a360-0c047dd92916",
   "metadata": {},
   "outputs": [],
   "source": []
  }
 ],
 "metadata": {
  "kernelspec": {
   "display_name": "Python 3 (ipykernel)",
   "language": "python",
   "name": "python3"
  },
  "language_info": {
   "codemirror_mode": {
    "name": "ipython",
    "version": 3
   },
   "file_extension": ".py",
   "mimetype": "text/x-python",
   "name": "python",
   "nbconvert_exporter": "python",
   "pygments_lexer": "ipython3",
   "version": "3.12.7"
  }
 },
 "nbformat": 4,
 "nbformat_minor": 5
}
