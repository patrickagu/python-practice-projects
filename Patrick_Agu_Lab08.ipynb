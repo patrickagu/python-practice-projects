{
 "cells": [
  {
   "cell_type": "markdown",
   "id": "8441c2ef-d688-4cb1-8fb4-eefea6d4bcce",
   "metadata": {},
   "source": [
    "Lab 8: Working with Excel Files"
   ]
  },
  {
   "cell_type": "code",
   "execution_count": 1,
   "id": "a0087534-5246-40ff-88af-5845f0d951f1",
   "metadata": {},
   "outputs": [
    {
     "ename": "EZSheetsException",
     "evalue": "Can't find credentials file at C:\\Users\\patri\\credentials-sheets.json. You can download this file from https://developers.google.com/sheets/api/quickstart/python  and clicking \"Enable the Google Sheets API\". Rename the downloaded file to credentials-sheets.json.",
     "output_type": "error",
     "traceback": [
      "\u001b[1;31m---------------------------------------------------------------------------\u001b[0m",
      "\u001b[1;31mEZSheetsException\u001b[0m                         Traceback (most recent call last)",
      "Cell \u001b[1;32mIn[1], line 40\u001b[0m\n\u001b[0;32m     37\u001b[0m     \u001b[38;5;28mprint\u001b[39m(\u001b[38;5;124m\"\u001b[39m\u001b[38;5;124mSpreadsheet has been successfully created and populated with random words!\u001b[39m\u001b[38;5;124m\"\u001b[39m)\n\u001b[0;32m     39\u001b[0m \u001b[38;5;66;03m# Call the function to fill-up the sheet\u001b[39;00m\n\u001b[1;32m---> 40\u001b[0m create_fill_spreadsheet()\n",
      "Cell \u001b[1;32mIn[1], line 20\u001b[0m, in \u001b[0;36mcreate_fill_spreadsheet\u001b[1;34m()\u001b[0m\n\u001b[0;32m     17\u001b[0m \u001b[38;5;28;01mdef\u001b[39;00m \u001b[38;5;21mcreate_fill_spreadsheet\u001b[39m():\n\u001b[0;32m     18\u001b[0m     \n\u001b[0;32m     19\u001b[0m     \u001b[38;5;66;03m# Create the spreadsheet with ezsheets\u001b[39;00m\n\u001b[1;32m---> 20\u001b[0m     ss \u001b[38;5;241m=\u001b[39m ezsheets\u001b[38;5;241m.\u001b[39mcreateSpreadsheet(title \u001b[38;5;241m=\u001b[39m \u001b[38;5;124m'\u001b[39m\u001b[38;5;124mLab09\u001b[39m\u001b[38;5;124m'\u001b[39m)\n\u001b[0;32m     21\u001b[0m     sh \u001b[38;5;241m=\u001b[39m ss\u001b[38;5;241m.\u001b[39msheets[\u001b[38;5;241m0\u001b[39m]  \u001b[38;5;66;03m# the first sheet\u001b[39;00m\n\u001b[0;32m     23\u001b[0m     \u001b[38;5;66;03m# Create a list of 50 random words, 10 rows and 5 columns\u001b[39;00m\n",
      "File \u001b[1;32m~\\AppData\\Local\\anaconda3\\Lib\\site-packages\\ezsheets\\__init__.py:1652\u001b[0m, in \u001b[0;36mcreateSpreadsheet\u001b[1;34m(title)\u001b[0m\n\u001b[0;32m   1650\u001b[0m \u001b[38;5;28;01mdef\u001b[39;00m \u001b[38;5;21mcreateSpreadsheet\u001b[39m(title\u001b[38;5;241m=\u001b[39m\u001b[38;5;124m\"\u001b[39m\u001b[38;5;124mUntitled spreadsheet\u001b[39m\u001b[38;5;124m\"\u001b[39m):\n\u001b[0;32m   1651\u001b[0m     \u001b[38;5;28;01mif\u001b[39;00m \u001b[38;5;129;01mnot\u001b[39;00m IS_INITIALIZED:\n\u001b[1;32m-> 1652\u001b[0m         init()  \u001b[38;5;66;03m# Initialize this module if not done so already.\u001b[39;00m\n\u001b[0;32m   1653\u001b[0m     \u001b[38;5;66;03m# request = SHEETS_SERVICE.spreadsheets().create(body={\u001b[39;00m\n\u001b[0;32m   1654\u001b[0m     \u001b[38;5;66;03m#    'properties': {'title': title}\u001b[39;00m\n\u001b[0;32m   1655\u001b[0m     \u001b[38;5;66;03m#    })\u001b[39;00m\n\u001b[0;32m   1656\u001b[0m     \u001b[38;5;66;03m# _logWriteRequest(); response = request.execute()\u001b[39;00m\n\u001b[0;32m   1657\u001b[0m     response \u001b[38;5;241m=\u001b[39m _makeRequest(\u001b[38;5;124m\"\u001b[39m\u001b[38;5;124mcreate\u001b[39m\u001b[38;5;124m\"\u001b[39m, \u001b[38;5;241m*\u001b[39m\u001b[38;5;241m*\u001b[39m{\u001b[38;5;124m\"\u001b[39m\u001b[38;5;124mbody\u001b[39m\u001b[38;5;124m\"\u001b[39m: {\u001b[38;5;124m\"\u001b[39m\u001b[38;5;124mproperties\u001b[39m\u001b[38;5;124m\"\u001b[39m: {\u001b[38;5;124m\"\u001b[39m\u001b[38;5;124mtitle\u001b[39m\u001b[38;5;124m\"\u001b[39m: title}}})\n",
      "File \u001b[1;32m~\\AppData\\Local\\anaconda3\\Lib\\site-packages\\ezsheets\\__init__.py:1772\u001b[0m, in \u001b[0;36minit\u001b[1;34m(credentialsFile, sheetsTokenFile, driveTokenFile, _raiseException)\u001b[0m\n\u001b[0;32m   1770\u001b[0m \u001b[38;5;28;01mtry\u001b[39;00m:\n\u001b[0;32m   1771\u001b[0m     \u001b[38;5;28;01mif\u001b[39;00m \u001b[38;5;129;01mnot\u001b[39;00m os\u001b[38;5;241m.\u001b[39mpath\u001b[38;5;241m.\u001b[39mexists(credentialsFile):\n\u001b[1;32m-> 1772\u001b[0m         \u001b[38;5;28;01mraise\u001b[39;00m EZSheetsException(\n\u001b[0;32m   1773\u001b[0m             \u001b[38;5;124m'\u001b[39m\u001b[38;5;124mCan\u001b[39m\u001b[38;5;130;01m\\'\u001b[39;00m\u001b[38;5;124mt find credentials file at \u001b[39m\u001b[38;5;132;01m%s\u001b[39;00m\u001b[38;5;124m. You can download this file from https://developers.google.com/sheets/api/quickstart/python  and clicking \u001b[39m\u001b[38;5;124m\"\u001b[39m\u001b[38;5;124mEnable the Google Sheets API\u001b[39m\u001b[38;5;124m\"\u001b[39m\u001b[38;5;124m. Rename the downloaded file to credentials-sheets.json.\u001b[39m\u001b[38;5;124m'\u001b[39m\n\u001b[0;32m   1774\u001b[0m             \u001b[38;5;241m%\u001b[39m (os\u001b[38;5;241m.\u001b[39mpath\u001b[38;5;241m.\u001b[39mabspath(credentialsFile))\n\u001b[0;32m   1775\u001b[0m         )\n\u001b[0;32m   1777\u001b[0m     \u001b[38;5;66;03m# Find the token files, assume they are in the same folder as the credentials file:\u001b[39;00m\n\u001b[0;32m   1778\u001b[0m     \u001b[38;5;28;01mif\u001b[39;00m \u001b[38;5;129;01mnot\u001b[39;00m os\u001b[38;5;241m.\u001b[39mpath\u001b[38;5;241m.\u001b[39misabs(sheetsTokenFile):\n",
      "\u001b[1;31mEZSheetsException\u001b[0m: Can't find credentials file at C:\\Users\\patri\\credentials-sheets.json. You can download this file from https://developers.google.com/sheets/api/quickstart/python  and clicking \"Enable the Google Sheets API\". Rename the downloaded file to credentials-sheets.json."
     ]
    }
   ],
   "source": [
    "''' Write python code that will populate a new google spreadsheet (Lab09) with 50 (10x 5)\n",
    "random words that have random lengths from 4 to 8 characters and are made up of random\n",
    "letters '''\n",
    "\n",
    "# Import modules\n",
    "import random\n",
    "import ezsheets\n",
    "\n",
    "# Function to generate a random word\n",
    "def generate_random_word():\n",
    "    length = random.randint(4, 8)  # length between 4 and 8\n",
    "    letters = 'abcdefghijklmnopqrstuvwxyz'  # Possible characters a - z\n",
    "    word = ''.join(random.choices(letters, k= length)) # to obtain a single word of length 4 to 8 from letters a - z\n",
    "    return word\n",
    "\n",
    "# Function to fill up a Google Spreadsheet with random words\n",
    "def create_fill_spreadsheet():\n",
    "    \n",
    "    # Create the spreadsheet with ezsheets\n",
    "    ss = ezsheets.createSpreadsheet(title = 'Lab09')\n",
    "    sh = ss.sheets[0]  # the first sheet\n",
    "\n",
    "    # Create a list of 50 random words, 10 rows and 5 columns\n",
    "    words = []   # An empty list for words\n",
    "    \n",
    "    for x in range(10):  # To create 10 rows\n",
    "        row = [] #an empty list representing one row of words\n",
    "        \n",
    "        for y in range(5):  # To create 5 columns\n",
    "            row.append(generate_random_word())  # Adds a random word to the row list, 5 times meaning 5 words will be added to the row list\n",
    "        \n",
    "        words.append(row)  # Adds the completed row to the words list above\n",
    "\n",
    "    # Update the sheet with the list of random words\n",
    "    sh.updateRows(1, words)\n",
    "\n",
    "    print(\"Spreadsheet has been successfully created and populated with random words!\")\n",
    "\n",
    "# Call the function to fill-up the sheet\n",
    "create_fill_spreadsheet()"
   ]
  },
  {
   "cell_type": "code",
   "execution_count": null,
   "id": "56e6f3c0-7202-46bb-a26d-ef87447de042",
   "metadata": {},
   "outputs": [],
   "source": []
  }
 ],
 "metadata": {
  "kernelspec": {
   "display_name": "Python 3 (ipykernel)",
   "language": "python",
   "name": "python3"
  },
  "language_info": {
   "codemirror_mode": {
    "name": "ipython",
    "version": 3
   },
   "file_extension": ".py",
   "mimetype": "text/x-python",
   "name": "python",
   "nbconvert_exporter": "python",
   "pygments_lexer": "ipython3",
   "version": "3.12.7"
  }
 },
 "nbformat": 4,
 "nbformat_minor": 5
}
