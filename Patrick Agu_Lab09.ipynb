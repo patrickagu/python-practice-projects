{
 "cells": [
  {
   "cell_type": "markdown",
   "id": "a09a2c9d-73ef-49a6-9bd7-494781537c60",
   "metadata": {},
   "source": [
    "Coding Lab 9"
   ]
  },
  {
   "cell_type": "code",
   "execution_count": 7,
   "id": "5501082b-4352-42d3-ab57-49cc5ea26802",
   "metadata": {},
   "outputs": [
    {
     "name": "stdout",
     "output_type": "stream",
     "text": [
      "Preparing to lunch program\n",
      "Starting in 20 seconds\n",
      "Retype the words and close your Notepad!\n",
      "\n",
      "It took you approximately 76.84 seconds to type the words.\n"
     ]
    }
   ],
   "source": [
    "\"\"\" Write a python function which will return a list made up of 10 random “strings” where each string\n",
    "has a random length from 3,5 or 7, letters and each letter is randomly chosen from the alphabet,\n",
    "however the middle letter must be a randomly chosen vowel. Now write the strings to a text file\n",
    "(Lab9.txt) using Python. Write python code that will launch the notepad application with a\n",
    "preloaded text file that contains 10 random strings, 20 seconds from the moment the python\n",
    "program runs. Once open, instruct the user to manually retype the ten words in the notepad\n",
    "application then close the application. Once the application is closed, wait for 15 seconds, then tell\n",
    "the user approximately how long it took them to type the ten words.\n",
    "\"\"\"\n",
    "\n",
    "# Import the required modules\n",
    "import os\n",
    "import random\n",
    "import time\n",
    "import subprocess\n",
    "\n",
    "# Define a function to generate the random strings \n",
    "def generate_random_strings():\n",
    "    vowels = 'aeiou'\n",
    "    letters = 'bcdfghjklmnpqrstvwxyz'\n",
    "    lengths = [3, 5, 7]\n",
    "    random_strings = []\n",
    "    \n",
    "    for x in range(10): # For 10 strings\n",
    "        length = random.choice(lengths)   \n",
    "        mid = length // 2  # To make sure I get a valid integer position, at the middle of each word\n",
    "        word = ''\n",
    "        for i in range(length):\n",
    "            if i == mid:\n",
    "                word += random.choice(vowels)\n",
    "            else:\n",
    "                word += random.choice(letters)\n",
    "        random_strings.append(word)\n",
    "    return random_strings\n",
    "\n",
    "# Define a function to run program\n",
    "def run_program():\n",
    "    # Open a text file \n",
    "    file = open('Lab9.txt', 'w')\n",
    "    for z in generate_random_strings():\n",
    "        file.write(z + '\\n')  # Write to file and split the words with a newline character\n",
    "    file.close()  # Always close the file\n",
    "    \n",
    "    start_time = time.time()\n",
    "    \n",
    "    # Print a pause in start time message\n",
    "    print(\"Starting in 20 seconds\")\n",
    "    time.sleep(20)\n",
    "    \n",
    "    # Launch Notepad\n",
    "    process = subprocess.Popen(['notepad.exe', 'Lab9.txt'])\n",
    "    \n",
    "    print(\"Retype the words and close your Notepad!\")\n",
    "    \n",
    "    # Wait for the Notepad to close\n",
    "    process.wait()\n",
    "    process.poll()\n",
    "\n",
    "    # Pause the program for another 15 seconds\n",
    "    time.sleep(15)\n",
    "\n",
    "    # Calculate the total time spent (35 seconds of pause by running time.sleep twice)\n",
    "    total_time = time.time() - start_time - 35\n",
    "\n",
    "    # Print out the time it took the user to type in the words and close the Notepad\n",
    "    print(f\"\\nIt took you approximately {total_time:.2f} seconds to type the words.\")\n",
    "\n",
    "# Start with a simple message\n",
    "print(\"Preparing to lunch program\")\n",
    "\n",
    "# Call the function\n",
    "run_program()"
   ]
  },
  {
   "cell_type": "code",
   "execution_count": null,
   "id": "10942ccd-0eec-47bf-8ec8-da4596ee8a86",
   "metadata": {},
   "outputs": [],
   "source": []
  }
 ],
 "metadata": {
  "kernelspec": {
   "display_name": "Python 3 (ipykernel)",
   "language": "python",
   "name": "python3"
  },
  "language_info": {
   "codemirror_mode": {
    "name": "ipython",
    "version": 3
   },
   "file_extension": ".py",
   "mimetype": "text/x-python",
   "name": "python",
   "nbconvert_exporter": "python",
   "pygments_lexer": "ipython3",
   "version": "3.12.7"
  }
 },
 "nbformat": 4,
 "nbformat_minor": 5
}
